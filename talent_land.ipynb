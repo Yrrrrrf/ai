{
 "cells": [
  {
   "cell_type": "markdown",
   "metadata": {},
   "source": []
  },
  {
   "cell_type": "code",
   "execution_count": 16,
   "metadata": {},
   "outputs": [],
   "source": [
    "import numpy as np\n",
    "import matplotlib.pyplot as plt"
   ]
  },
  {
   "cell_type": "code",
   "execution_count": 17,
   "metadata": {},
   "outputs": [
    {
     "name": "stdout",
     "output_type": "stream",
     "text": [
      "162720\n"
     ]
    }
   ],
   "source": [
    "# * PRICES...\n",
    "dep_0 = 16_272  # * 10%\n",
    "dep_1 = 73_224  # * 45%     (Marzo 18)\n",
    "dep_2 = 73_224  # * 45%     (Abril 8) \n",
    "# * log\n",
    "total_hotel = dep_0 + dep_1 + dep_2\n",
    "print(total_hotel)"
   ]
  },
  {
   "cell_type": "code",
   "execution_count": 18,
   "metadata": {},
   "outputs": [
    {
     "name": "stdout",
     "output_type": "stream",
     "text": [
      "89496.0\n"
     ]
    }
   ],
   "source": [
    "min_give = 0.55\n",
    "print(total_hotel * min_give)"
   ]
  },
  {
   "cell_type": "code",
   "execution_count": 19,
   "metadata": {},
   "outputs": [
    {
     "name": "stdout",
     "output_type": "stream",
     "text": [
      "1177.578947368421\n",
      "2141.0526315789475\n"
     ]
    }
   ],
   "source": [
    "# # * PEOPLE\n",
    "PEOPLE_COUNT = 76\n",
    "print(min_give * total_hotel / PEOPLE_COUNT)\n",
    "\n",
    "# MONEY PER PERSON\n",
    "mpp = total_hotel / PEOPLE_COUNT\n",
    "print(mpp)"
   ]
  },
  {
   "cell_type": "code",
   "execution_count": 20,
   "metadata": {},
   "outputs": [
    {
     "name": "stdout",
     "output_type": "stream",
     "text": [
      "278160\n"
     ]
    }
   ],
   "source": [
    "# * total_pay_per_person = 3700\n",
    "total_pay_per_person = 3660\n",
    "\n",
    "total = PEOPLE_COUNT * total_pay_per_person\n",
    "print(total)"
   ]
  }
 ],
 "metadata": {
  "kernelspec": {
   "display_name": ".venv",
   "language": "python",
   "name": "python3"
  },
  "language_info": {
   "codemirror_mode": {
    "name": "ipython",
    "version": 3
   },
   "file_extension": ".py",
   "mimetype": "text/x-python",
   "name": "python",
   "nbconvert_exporter": "python",
   "pygments_lexer": "ipython3",
   "version": "3.12.8"
  }
 },
 "nbformat": 4,
 "nbformat_minor": 2
}
