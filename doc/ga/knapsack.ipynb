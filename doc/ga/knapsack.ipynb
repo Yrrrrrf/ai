{
 "cells": [
  {
   "cell_type": "markdown",
   "metadata": {},
   "source": [
    "# Knapsack Problem with Genetic Algorithm\n",
    "\n",
    "This notebook demonstrates how to solve the knapsack problem using the genetic algorithm implemented in `src/lib/ga.py`."
   ]
  },
  {
   "cell_type": "code",
   "execution_count": 1,
   "metadata": {},
   "outputs": [
    {
     "name": "stdout",
     "output_type": "stream",
     "text": [
      "Added c:\\Users\\fire\\Lab\\ai to Python path\n",
      "\u001b[96m[INFO]\u001b[0m No seed provided, using default seed \u001b[92m42\u001b[0m. To set a new seed, call \u001b[93mset_seeds(seed=YOUR_SEED)\u001b[0m\n"
     ]
    }
   ],
   "source": [
    "# Add path to the central init_notebook.py file (just 5 lines!)\n",
    "import sys\n",
    "from pathlib import Path\n",
    "\n",
    "doc_dir = Path().absolute().parent  # This points to the doc/ directory\n",
    "if str(doc_dir) not in sys.path:\n",
    "    sys.path.insert(0, str(doc_dir))\n",
    "\n",
    "# Now import everything with one line\n",
    "from notebook import GeneticAlgorithm, AssetType, am, torch, np, plt\n",
    "\n",
    "from dataclasses import dataclass"
   ]
  },
  {
   "cell_type": "code",
   "execution_count": 2,
   "metadata": {},
   "outputs": [],
   "source": [
    "@dataclass\n",
    "class KnapsackData:\n",
    "    \"\"\"Clase para almacenar los datos del problema de la mochila\"\"\"\n",
    "\n",
    "    weights: torch.Tensor\n",
    "    values: torch.Tensor\n",
    "    max_weight: float"
   ]
  },
  {
   "cell_type": "code",
   "execution_count": 3,
   "metadata": {},
   "outputs": [],
   "source": [
    "def knapsack_fitness(\n",
    "    population: torch.Tensor, problem_data: KnapsackData\n",
    ") -> torch.Tensor:\n",
    "    \"\"\"\n",
    "    Función de fitness para el problema de la mochila\n",
    "\n",
    "    Args:\n",
    "        population: Tensor de población [pop_size, chromosome_length]\n",
    "        problem_data: Datos del problema (pesos, valores, peso máximo)\n",
    "\n",
    "    Returns:\n",
    "        Tensor con los valores de fitness de cada individuo\n",
    "    \"\"\"\n",
    "    # Calcular el peso total de cada individuo [pop_size]\n",
    "    total_weights = torch.matmul(population, problem_data.weights)\n",
    "\n",
    "    # Calcular el valor total de cada individuo [pop_size]\n",
    "    total_values = torch.matmul(population, problem_data.values)\n",
    "\n",
    "    # Si el peso total excede el máximo, el fitness es 0\n",
    "    fitness = torch.where(\n",
    "        total_weights > problem_data.max_weight,\n",
    "        torch.zeros_like(total_values),\n",
    "        total_values,\n",
    "    )\n",
    "\n",
    "    return fitness"
   ]
  },
  {
   "cell_type": "code",
   "execution_count": 4,
   "metadata": {},
   "outputs": [],
   "source": [
    "def display_solution(chromosome: torch.Tensor, problem_data: KnapsackData):\n",
    "    \"\"\"\n",
    "    Muestra la solución encontrada para el problema de la mochila\n",
    "\n",
    "    Args:\n",
    "        chromosome: Cromosoma (solución) encontrado\n",
    "        problem_data: Datos del problema\n",
    "    \"\"\"\n",
    "    selected_indices = torch.where(chromosome == 1)[0].tolist()\n",
    "\n",
    "    print(\"\\nObjetos seleccionados:\")\n",
    "    print(f\"{'Índice':<10}{'Peso':<10}{'Valor':<10}\")\n",
    "    print(\"-\" * 30)\n",
    "\n",
    "    total_weight = 0\n",
    "    total_value = 0\n",
    "\n",
    "    for idx in selected_indices:\n",
    "        weight = problem_data.weights[idx].item()\n",
    "        value = problem_data.values[idx].item()\n",
    "        print(f\"{idx:<10}{weight:<10.1f}{value:<10.1f}\")\n",
    "        total_weight += weight\n",
    "        total_value += value\n",
    "\n",
    "    print(\"-\" * 30)\n",
    "    print(f\"{'Total:':<10}{total_weight:<10.1f}{total_value:<10.1f}\")\n",
    "    print(\n",
    "        f\"Capacidad utilizada: {total_weight}/{problem_data.max_weight} ({total_weight / problem_data.max_weight * 100:.1f}%)\"\n",
    "    )"
   ]
  },
  {
   "cell_type": "markdown",
   "metadata": {},
   "source": [
    "## Solve the Knapsack Problem"
   ]
  },
  {
   "cell_type": "code",
   "execution_count": 5,
   "metadata": {},
   "outputs": [
    {
     "name": "stdout",
     "output_type": "stream",
     "text": [
      "\u001b[92mKnapsack Problem\u001b[0m\n",
      "\n",
      "Weights: [7.0, 6.0, 8.0, 5.0, 1.0, 3.0, 8.0, 6.0]\n",
      "Values: [1.0, 8.0, 1.0, 13.0, 7.0, 5.0, 2.0, 3.0]\n",
      "Maximum weight capacity: 50\n"
     ]
    }
   ],
   "source": [
    "# Configuración del problema\n",
    "population_size = 50\n",
    "n_generations = 100\n",
    "n_objects = 8\n",
    "bag_capacity = 50\n",
    "\n",
    "# Generar pesos y valores aleatorios para los objetos\n",
    "weights = torch.randint(1, 10, (n_objects,), dtype=torch.float32)\n",
    "values = torch.randint(1, 15, (n_objects,), dtype=torch.float32)\n",
    "\n",
    "print(f\"\\033[92mKnapsack Problem\\033[0m\\n\")\n",
    "print(f\"Weights: {weights.tolist()}\")\n",
    "print(f\"Values: {values.tolist()}\")\n",
    "print(f\"Maximum weight capacity: {bag_capacity}\")\n",
    "\n",
    "# Crear objeto de datos para el problema\n",
    "problem_data = KnapsackData(weights=weights, values=values, max_weight=bag_capacity)"
   ]
  },
  {
   "cell_type": "code",
   "execution_count": 6,
   "metadata": {},
   "outputs": [
    {
     "name": "stdout",
     "output_type": "stream",
     "text": [
      "Generación 1: Mejor fitness = 40.00, Fitness promedio = 20.50\n",
      "Generación 10: Mejor fitness = 40.00, Fitness promedio = 37.60\n",
      "Generación 20: Mejor fitness = 40.00, Fitness promedio = 38.10\n",
      "Generación 30: Mejor fitness = 40.00, Fitness promedio = 37.22\n",
      "Generación 40: Mejor fitness = 40.00, Fitness promedio = 37.38\n",
      "Generación 50: Mejor fitness = 40.00, Fitness promedio = 38.38\n",
      "Generación 60: Mejor fitness = 40.00, Fitness promedio = 37.72\n",
      "Generación 70: Mejor fitness = 40.00, Fitness promedio = 38.54\n",
      "Generación 80: Mejor fitness = 40.00, Fitness promedio = 37.88\n",
      "Generación 90: Mejor fitness = 40.00, Fitness promedio = 38.14\n",
      "Generación 100: Mejor fitness = 40.00, Fitness promedio = 37.46\n",
      "\n",
      "Mejor solución encontrada:\n",
      "Fitness: 40.00\n",
      "Cromosoma: [1, 1, 1, 1, 1, 1, 1, 1]\n"
     ]
    }
   ],
   "source": [
    "# Crear y ejecutar el algoritmo genético\n",
    "ga = GeneticAlgorithm(\n",
    "    pop_size=population_size,\n",
    "    chromosome_length=n_objects,\n",
    "    fitness_function=knapsack_fitness,\n",
    "    problem_data=problem_data,\n",
    "    mutation_rate=0.05,\n",
    "    crossover_rate=0.8,\n",
    "    elitism=2,\n",
    "    maximize=True,\n",
    "    binary=True,\n",
    ")\n",
    "\n",
    "best_chromosome, best_fitness = ga.run(n_generations)"
   ]
  },
  {
   "cell_type": "code",
   "execution_count": 7,
   "metadata": {},
   "outputs": [
    {
     "data": {
      "image/png": "[encoded data removed]",
      "text/plain": [
       "<Figure size 1000x500 with 1 Axes>"
      ]
     },
     "metadata": {},
     "output_type": "display_data"
    },
    {
     "name": "stdout",
     "output_type": "stream",
     "text": [
      "\n",
      "Objetos seleccionados:\n",
      "Índice    Peso      Valor     \n",
      "------------------------------\n",
      "0         7.0       1.0       \n",
      "1         6.0       8.0       \n",
      "2         8.0       1.0       \n",
      "3         5.0       13.0      \n",
      "4         1.0       7.0       \n",
      "5         3.0       5.0       \n",
      "6         8.0       2.0       \n",
      "7         6.0       3.0       \n",
      "------------------------------\n",
      "Total:    44.0      40.0      \n",
      "Capacidad utilizada: 44.0/50 (88.0%)\n"
     ]
    }
   ],
   "source": [
    "# Visualizar resultados\n",
    "ga.plot_history(title=\"Evolución del fitness para el problema de la mochila\")\n",
    "\n",
    "# Mostrar detalles de la solución\n",
    "display_solution(best_chromosome, problem_data)"
   ]
  },
  {
   "cell_type": "markdown",
   "metadata": {},
   "source": [
    "## Save Results to Temp Directory"
   ]
  },
  {
   "cell_type": "code",
   "execution_count": 8,
   "metadata": {},
   "outputs": [
    {
     "name": "stdout",
     "output_type": "stream",
     "text": [
      "Saved results to: c:\\Users\\fire\\Lab\\ai\\data\\temp\\knapsack_results.png\n"
     ]
    }
   ],
   "source": [
    "# Ensure temp directory exists\n",
    "temp_dir = am.get_asset_path(AssetType.TEMP)\n",
    "am.ensure_path_exists(temp_dir)\n",
    "\n",
    "# Create and save the figure\n",
    "plt.figure(figsize=(10, 5))\n",
    "generations = range(1, len(ga.best_fitness_history) + 1)\n",
    "plt.plot(generations, ga.best_fitness_history, \"b-\", label=\"Mejor fitness\")\n",
    "plt.plot(generations, ga.avg_fitness_history, \"r-\", label=\"Fitness promedio\")\n",
    "plt.title(\"Evolución del fitness (guardado)\")\n",
    "plt.xlabel(\"Generación\")\n",
    "plt.ylabel(\"Fitness\")\n",
    "plt.legend()\n",
    "plt.grid(True)\n",
    "\n",
    "# Get path for saving and save\n",
    "save_path = am.get_temp(\"knapsack_results.png\", absolute=True)\n",
    "plt.savefig(save_path)\n",
    "plt.close()\n",
    "\n",
    "print(f\"Saved results to: {save_path}\")"
   ]
  }
 ],
 "metadata": {
  "kernelspec": {
   "display_name": ".venv",
   "language": "python",
   "name": "python3"
  },
  "language_info": {
   "codemirror_mode": {
    "name": "ipython",
    "version": 3
   },
   "file_extension": ".py",
   "mimetype": "text/x-python",
   "name": "python",
   "nbconvert_exporter": "python",
   "pygments_lexer": "ipython3",
   "version": "3.12.9"
  }
 },
 "nbformat": 4,
 "nbformat_minor": 4
}
