{
 "cells": [
  {
   "cell_type": "markdown",
   "id": "62a161ef",
   "metadata": {},
   "source": [
    "This is just an example of a simple notebook template to use in this project to be able to import the modules from the `src` folder. (Or mostly anywhere)"
   ]
  },
  {
   "cell_type": "code",
   "execution_count": 2,
   "id": "19324680",
   "metadata": {},
   "outputs": [],
   "source": [
    "# Add path to the central init_notebook.py file\n",
    "import sys\n",
    "from pathlib import Path\n",
    "\n",
    "doc_dir = Path().absolute().parent  # This points to the doc/ directory\n",
    "if str(doc_dir) not in sys.path:\n",
    "    sys.path.insert(0, str(doc_dir))\n",
    "\n",
    "# Now import everything with one line"
   ]
  }
 ],
 "metadata": {
  "kernelspec": {
   "display_name": "ai",
   "language": "python",
   "name": "python3"
  },
  "language_info": {
   "codemirror_mode": {
    "name": "ipython",
    "version": 3
   },
   "file_extension": ".py",
   "mimetype": "text/x-python",
   "name": "python",
   "nbconvert_exporter": "python",
   "pygments_lexer": "ipython3",
   "version": "3.12.11"
  }
 },
 "nbformat": 4,
 "nbformat_minor": 5
}
