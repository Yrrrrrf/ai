{
 "cells": [
  {
   "cell_type": "markdown",
   "metadata": {},
   "source": [
    "# String Matching Problem with Genetic Algorithm\n",
    "\n",
    "This notebook demonstrates how to solve the string matching problem using the genetic algorithm implemented in `src/lib/ga.py`.\n",
    "\n",
    "In this problem, we try to evolve a population of strings to match a target string."
   ]
  },
  {
   "cell_type": "code",
   "execution_count": 1,
   "metadata": {},
   "outputs": [
    {
     "name": "stdout",
     "output_type": "stream",
     "text": [
      "Added c:\\Users\\fire\\Documents\\Code\\python\\ai to Python path\n",
      "Set random seeds to 42\n"
     ]
    }
   ],
   "source": [
    "# Add path to the central init_notebook.py file\n",
    "import sys\n",
    "from pathlib import Path\n",
    "doc_dir = Path().absolute().parent  # This points to the doc/ directory\n",
    "if str(doc_dir) not in sys.path:\n",
    "    sys.path.insert(0, str(doc_dir))\n",
    "\n",
    "# Now import everything with one line\n",
    "from init_notebook import GeneticAlgorithm, AssetType, am, torch, np, plt\n",
    "\n",
    "# Additional imports\n",
    "import string\n",
    "from dataclasses import dataclass"
   ]
  },
  {
   "cell_type": "markdown",
   "metadata": {},
   "source": [
    "## Define Data Structures and Helper Functions\n",
    "\n",
    "First, we define the classes and functions that will be used in our string matching problem."
   ]
  },
  {
   "cell_type": "code",
   "execution_count": 2,
   "metadata": {},
   "outputs": [],
   "source": [
    "@dataclass\n",
    "class StringMatchingData:\n",
    "    \"\"\"Class to store string matching problem data\"\"\"\n",
    "    target_string: str\n",
    "    charset: str  # Set of possible characters\n",
    "    char_to_idx: dict  # Mapping from characters to indices\n",
    "    idx_to_char: dict  # Mapping from indices to characters"
   ]
  },
  {
   "cell_type": "code",
   "execution_count": 3,
   "metadata": {},
   "outputs": [],
   "source": [
    "def create_string_matching_data(\n",
    "    target_string: str, charset: str = None\n",
    ") -> StringMatchingData:\n",
    "    \"\"\"\n",
    "    Creates a data object for the string matching problem\n",
    "    \n",
    "    Args:\n",
    "        target_string: Target string to match\n",
    "        charset: Set of possible characters (if None, a default set will be used)\n",
    "        \n",
    "    Returns:\n",
    "        StringMatchingData object with problem data\n",
    "    \"\"\"\n",
    "    if charset is None:\n",
    "        # Default charset: letters, numbers, and common symbols\n",
    "        charset = string.ascii_letters + string.digits + string.punctuation + \" \"\n",
    "    \n",
    "    # Create mappings between characters and indices\n",
    "    char_to_idx = {char: idx for idx, char in enumerate(charset)}\n",
    "    idx_to_char = {idx: char for idx, char in enumerate(charset)}\n",
    "    \n",
    "    return StringMatchingData(\n",
    "        target_string=target_string,\n",
    "        charset=charset,\n",
    "        char_to_idx=char_to_idx,\n",
    "        idx_to_char=idx_to_char,\n",
    "    )"
   ]
  },
  {
   "cell_type": "code",
   "execution_count": 4,
   "metadata": {},
   "outputs": [],
   "source": [
    "def string_matching_fitness(\n",
    "    population: torch.Tensor, problem_data: StringMatchingData\n",
    ") -> torch.Tensor:\n",
    "    \"\"\"\n",
    "    Fitness function for the string matching problem\n",
    "    \n",
    "    Args:\n",
    "        population: Population tensor [pop_size, chromosome_length]\n",
    "                   Each \"gene\" is a value between 0 and 1 that will be mapped to a character index\n",
    "        problem_data: Problem data\n",
    "        \n",
    "    Returns:\n",
    "        Tensor with fitness values for each individual\n",
    "    \"\"\"\n",
    "    pop_size, chromosome_length = population.shape\n",
    "    charset_size = len(problem_data.charset)\n",
    "    target_indices = torch.tensor(\n",
    "        [problem_data.char_to_idx[char] for char in problem_data.target_string]\n",
    "    )\n",
    "    \n",
    "    # Scale and round continuous inputs to discrete character indices\n",
    "    # Multiply by charset_size-1 and round to get indices between 0 and charset_size-1\n",
    "    indices = torch.round(population * (charset_size - 1)).long()\n",
    "    \n",
    "    # Calculate fitness based on how many characters match the target string\n",
    "    fitness = torch.zeros(pop_size)\n",
    "    \n",
    "    for i in range(pop_size):\n",
    "        # Character-based distance approach\n",
    "        # The closer each character is to the target, the higher the fitness\n",
    "        char_distances = 1.0 - torch.abs(indices[i] - target_indices) / charset_size\n",
    "        fitness[i] = torch.sum(char_distances)\n",
    "        \n",
    "    return fitness"
   ]
  },
  {
   "cell_type": "code",
   "execution_count": 5,
   "metadata": {},
   "outputs": [],
   "source": [
    "def decode_chromosome(\n",
    "    chromosome: torch.Tensor, problem_data: StringMatchingData\n",
    ") -> str:\n",
    "    \"\"\"\n",
    "    Decodes a chromosome into a string\n",
    "    \n",
    "    Args:\n",
    "        chromosome: Chromosome tensor [chromosome_length]\n",
    "        problem_data: Problem data\n",
    "        \n",
    "    Returns:\n",
    "        Decoded string\n",
    "    \"\"\"\n",
    "    charset_size = len(problem_data.charset)\n",
    "    indices = torch.round(chromosome * (charset_size - 1)).long().tolist()\n",
    "    return \"\".join(problem_data.idx_to_char[idx] for idx in indices)"
   ]
  },
  {
   "cell_type": "code",
   "execution_count": 6,
   "metadata": {},
   "outputs": [],
   "source": [
    "def display_solution(chromosome: torch.Tensor, problem_data: StringMatchingData):\n",
    "    \"\"\"\n",
    "    Displays the solution found for the string matching problem\n",
    "    \n",
    "    Args:\n",
    "        chromosome: Chromosome (solution) found\n",
    "        problem_data: Problem data\n",
    "    \"\"\"\n",
    "    solution_string = decode_chromosome(chromosome, problem_data)\n",
    "    target_string = problem_data.target_string\n",
    "    \n",
    "    print(\"\\nString Matching Result:\")\n",
    "    print(f\"Target string: '{target_string}'\")\n",
    "    print(f\"Best solution:  '{solution_string}'\")\n",
    "    \n",
    "    # Show matches\n",
    "    matches = sum(1 for a, b in zip(target_string, solution_string) if a == b)\n",
    "    match_percentage = (matches / len(target_string)) * 100\n",
    "    \n",
    "    print(\n",
    "        f\"\\nMatching characters: {matches}/{len(target_string)} ({match_percentage:.2f}%)\"\n",
    "    )\n",
    "    \n",
    "    # Visualize matches by character\n",
    "    print(\"\\nMatches by character:\")\n",
    "    for i, (target, solution) in enumerate(zip(target_string, solution_string)):\n",
    "        match_indicator = \"✓\" if target == solution else \"✗\"\n",
    "        print(\n",
    "            f\"Position {i}: Target='{target}' Solution='{solution}' {match_indicator}\"\n",
    "        )"
   ]
  },
  {
   "cell_type": "markdown",
   "metadata": {},
   "source": [
    "## Solve the String Matching Problem\n",
    "\n",
    "Now we'll set up and solve the string matching problem using our genetic algorithm."
   ]
  },
  {
   "cell_type": "code",
   "execution_count": 7,
   "metadata": {},
   "outputs": [
    {
     "name": "stdout",
     "output_type": "stream",
     "text": [
      "\u001b[92mString Matching Problem\u001b[0m\n",
      "\n",
      "Target string: 'Hello, Genetic Algorithm!'\n"
     ]
    }
   ],
   "source": [
    "# Problem configuration\n",
    "target_string = \"Hello, Genetic Algorithm!\"\n",
    "population_size = 100\n",
    "n_generations = 300\n",
    "\n",
    "print(f\"\\033[92mString Matching Problem\\033[0m\\n\")\n",
    "print(f\"Target string: '{target_string}'\")\n",
    "\n",
    "# Create the problem data object\n",
    "problem_data = create_string_matching_data(target_string)"
   ]
  },
  {
   "cell_type": "code",
   "execution_count": 8,
   "metadata": {},
   "outputs": [],
   "source": [
    "# Create and run the genetic algorithm\n",
    "ga = GeneticAlgorithm(\n",
    "    pop_size=population_size,\n",
    "    chromosome_length=len(target_string),\n",
    "    fitness_function=string_matching_fitness,\n",
    "    problem_data=problem_data,\n",
    "    mutation_rate=0.1,\n",
    "    crossover_rate=0.8,\n",
    "    elitism=5,\n",
    "    maximize=True,\n",
    "    binary=False,  # Using continuous representation for this problem\n",
    ")"
   ]
  },
  {
   "cell_type": "code",
   "execution_count": 9,
   "metadata": {},
   "outputs": [
    {
     "name": "stdout",
     "output_type": "stream",
     "text": [
      "Generation 1: 'jpblJ<3lj)mP)zQRKxfjw}yp6' (Fitness: 19.23)\n",
      "Generation 11: 'Dcplu=#ecLnvlq?Qomkjwmkj&' (Fitness: 22.73)\n",
      "Generation 21: 'EcklJ= Gftgwlq`yjmmrkqlo#' (Fitness: 24.02)\n",
      "Generation 31: 'Ecplo) Gftgwlc`yjemrkqlp#' (Fitness: 24.43)\n",
      "Generation 41: 'Egnlo) Gfsewlc yjgmqkwll\"' (Fitness: 24.58)\n",
      "Generation 51: 'Fcllo- Gftgufa Ajgmrjqgo8' (Fitness: 24.65)\n",
      "Generation 61: 'Egnlo, Gengulc Ajgmrjulo#' (Fitness: 24.72)\n",
      "Generation 71: 'Efllo- Gengtlc Ajgmrivgo#' (Fitness: 24.78)\n",
      "Generation 81: 'Fcllo, Gengtlc Akgmrivgm#' (Fitness: 24.82)\n",
      "Generation 91: 'Gcllo, Gengtlc Akgmrivgm#' (Fitness: 24.83)\n",
      "Generation 101: 'Fdllp, Gengtgc Akgmrivgm!' (Fitness: 24.85)\n",
      "Generation 111: 'Fdllp, Gengtgc Akgmrivgm!' (Fitness: 24.85)\n",
      "Generation 121: 'Fdllp, Genftgc Akgmrivgm!' (Fitness: 24.86)\n",
      "Generation 131: 'Gcllo, Genftgc Akgmrivgm!' (Fitness: 24.87)\n",
      "Generation 141: 'Gcllo, Genftgc Akgmrivgm!' (Fitness: 24.87)\n",
      "Generation 151: 'Gello, Genftgc Akgmrivgm!' (Fitness: 24.89)\n",
      "Generation 161: 'Gello, Genftgc Akgmrivgm!' (Fitness: 24.89)\n",
      "Generation 171: 'Gello, Genftgc Akgmrivgm!' (Fitness: 24.89)\n",
      "Generation 181: 'Gello, Genftgc Akgmrivgm!' (Fitness: 24.89)\n",
      "Generation 191: 'Hello, Genftgc Akgmrivgm!' (Fitness: 24.91)\n",
      "Generation 201: 'Hello, Genftgc Akgmrivgm!' (Fitness: 24.91)\n",
      "Generation 211: 'Hello, Genftgc Algpsiugm!' (Fitness: 24.93)\n",
      "Generation 221: 'Hello, Genftgc Algpsiugm!' (Fitness: 24.93)\n",
      "Generation 231: 'Hello, Genftgc Algpsiugm!' (Fitness: 24.93)\n",
      "Generation 241: 'Hello, Genftgc Algpsiugm!' (Fitness: 24.93)\n",
      "Generation 251: 'Hello, Genftgc Algpsiugm!' (Fitness: 24.93)\n",
      "Generation 261: 'Hello, Genftgc Algpsiugm!' (Fitness: 24.93)\n",
      "Generation 271: 'Hello, Genftgc Algpsiugm!' (Fitness: 24.93)\n",
      "Generation 281: 'Hello, Genftic Algpsiugm!' (Fitness: 24.95)\n",
      "Generation 291: 'Hello, Genftic Algpsiugm!' (Fitness: 24.95)\n",
      "Generation 300: 'Hello, Genftic Algpsiugm!' (Fitness: 24.95)\n"
     ]
    }
   ],
   "source": [
    "# Track best solutions throughout the generations\n",
    "best_solutions = []\n",
    "\n",
    "# Define a callback function to show progress\n",
    "def generation_callback(generation, best_chromosome, best_fitness):\n",
    "    if generation % 10 == 0 or generation == n_generations - 1:\n",
    "        solution = decode_chromosome(best_chromosome, problem_data)\n",
    "        best_solutions.append(solution)\n",
    "        print(\n",
    "            f\"Generation {generation + 1}: '{solution}' (Fitness: {best_fitness:.2f})\"\n",
    "        )\n",
    "\n",
    "# Run the genetic algorithm with tracking\n",
    "for gen in range(n_generations):\n",
    "    best_chromosome, best_fitness = ga.evolve()\n",
    "    generation_callback(gen, best_chromosome, best_fitness)"
   ]
  },
  {
   "cell_type": "code",
   "execution_count": 10,
   "metadata": {},
   "outputs": [
    {
     "data": {
      "image/png": "[encoded data removed]",
      "text/plain": [
       "<Figure size 1000x500 with 1 Axes>"
      ]
     },
     "metadata": {},
     "output_type": "display_data"
    }
   ],
   "source": [
    "# Visualize results\n",
    "ga.plot_history(\n",
    "    title=\"Fitness Evolution for String Matching Problem\"\n",
    ")"
   ]
  },
  {
   "cell_type": "code",
   "execution_count": 11,
   "metadata": {},
   "outputs": [
    {
     "name": "stdout",
     "output_type": "stream",
     "text": [
      "\n",
      "String Matching Result:\n",
      "Target string: 'Hello, Genetic Algorithm!'\n",
      "Best solution:  'Hello, Genftic Algpsiugm!'\n",
      "\n",
      "Matching characters: 20/25 (80.00%)\n",
      "\n",
      "Matches by character:\n",
      "Position 0: Target='H' Solution='H' ✓\n",
      "Position 1: Target='e' Solution='e' ✓\n",
      "Position 2: Target='l' Solution='l' ✓\n",
      "Position 3: Target='l' Solution='l' ✓\n",
      "Position 4: Target='o' Solution='o' ✓\n",
      "Position 5: Target=',' Solution=',' ✓\n",
      "Position 6: Target=' ' Solution=' ' ✓\n",
      "Position 7: Target='G' Solution='G' ✓\n",
      "Position 8: Target='e' Solution='e' ✓\n",
      "Position 9: Target='n' Solution='n' ✓\n",
      "Position 10: Target='e' Solution='f' ✗\n",
      "Position 11: Target='t' Solution='t' ✓\n",
      "Position 12: Target='i' Solution='i' ✓\n",
      "Position 13: Target='c' Solution='c' ✓\n",
      "Position 14: Target=' ' Solution=' ' ✓\n",
      "Position 15: Target='A' Solution='A' ✓\n",
      "Position 16: Target='l' Solution='l' ✓\n",
      "Position 17: Target='g' Solution='g' ✓\n",
      "Position 18: Target='o' Solution='p' ✗\n",
      "Position 19: Target='r' Solution='s' ✗\n",
      "Position 20: Target='i' Solution='i' ✓\n",
      "Position 21: Target='t' Solution='u' ✗\n",
      "Position 22: Target='h' Solution='g' ✗\n",
      "Position 23: Target='m' Solution='m' ✓\n",
      "Position 24: Target='!' Solution='!' ✓\n"
     ]
    }
   ],
   "source": [
    "# Display detailed solution information\n",
    "display_solution(ga.best_chromosome, problem_data)"
   ]
  },
  {
   "cell_type": "code",
   "execution_count": 12,
   "metadata": {},
   "outputs": [
    {
     "name": "stdout",
     "output_type": "stream",
     "text": [
      "\n",
      "Evolution of best solutions:\n",
      "Generation 1: 'jpblJ<3lj)mP)zQRKxfjw}yp6'\n",
      "Generation 51: 'Fcllo- Gftgufa Ajgmrjqgo8'\n",
      "Generation 101: 'Fdllp, Gengtgc Akgmrivgm!'\n",
      "Generation 151: 'Gello, Genftgc Akgmrivgm!'\n",
      "Generation 201: 'Hello, Genftgc Akgmrivgm!'\n",
      "Generation 251: 'Hello, Genftgc Algpsiugm!'\n",
      "Generation 301: 'Hello, Genftic Algpsiugm!'\n"
     ]
    }
   ],
   "source": [
    "# Visualize the evolution of solutions\n",
    "print(\"\\nEvolution of best solutions:\")\n",
    "for i, solution in enumerate(best_solutions):\n",
    "    if i % 5 == 0:  # Show every 5th generation to avoid cluttering the output\n",
    "        gen_num = i * 10  # Since we saved every 10 generations\n",
    "        print(f\"Generation {gen_num + 1}: '{solution}'\")"
   ]
  },
  {
   "cell_type": "markdown",
   "metadata": {},
   "source": [
    "## Save Results to Temp Directory\n",
    "\n",
    "We'll save the fitness evolution chart for future reference."
   ]
  },
  {
   "cell_type": "code",
   "execution_count": 13,
   "metadata": {},
   "outputs": [
    {
     "name": "stdout",
     "output_type": "stream",
     "text": [
      "Saved results to: c:\\Users\\fire\\Documents\\Code\\python\\ai\\data\\temp\\string_matching_results.png\n"
     ]
    }
   ],
   "source": [
    "# Ensure temp directory exists\n",
    "temp_dir = am.get_asset_path(AssetType.TEMP)\n",
    "am.ensure_path_exists(temp_dir)\n",
    "\n",
    "# Create and save the figure\n",
    "plt.figure(figsize=(10, 5))\n",
    "generations = range(1, len(ga.best_fitness_history) + 1)\n",
    "plt.plot(generations, ga.best_fitness_history, 'b-', label='Best Fitness')\n",
    "plt.plot(generations, ga.avg_fitness_history, 'r-', label='Average Fitness')\n",
    "plt.title(\"String Matching Fitness Evolution\")\n",
    "plt.xlabel('Generation')\n",
    "plt.ylabel('Fitness')\n",
    "plt.legend()\n",
    "plt.grid(True)\n",
    "\n",
    "# Get path for saving and save\n",
    "save_path = am.get_temp('string_matching_results.png', absolute=True)\n",
    "plt.savefig(save_path)\n",
    "plt.close()\n",
    "\n",
    "print(f\"Saved results to: {save_path}\")"
   ]
  },
  {
   "cell_type": "code",
   "execution_count": 14,
   "metadata": {},
   "outputs": [
    {
     "name": "stdout",
     "output_type": "stream",
     "text": [
      "\n",
      "Longer string challenge:\n",
      "Target: 'This is a longer string that should be more challenging for the genetic algorithm to match perfectly.'\n",
      "\n",
      "Running genetic algorithm...\n",
      "Generation 50: 'Qjno^ls E tevJns ufAlAq-ykZA~ddpwwl ex qoog_Vygotnmaup5^foJ|xrj\\kJovqxaVjhdiTrtuj*nB mhEIa>nqlgieovC\"'\n",
      "Generation 100: 'Tknq lm h oorsbt Cssmpn tgas oisylh ca_qpna eugjlmmahpr fbr uag kaodvql ajkkwkpfq rj~mauak mhhggaqlz-'\n",
      "Generation 150: 'Tfhq ls h konhbt rupjnn tias oimvka aa qpqa ehajlamgipd dqs uie~kenevjf ajhrtkugi qq~matbk ncqfectmv-'\n",
      "Generation 200: 'Tfhq ls a konhbt rupjng tiau oimvka aa qpna ehajlamgipd fqo uie~kenevjb ajhrtkugi vq~matbk ncqfectnv-'\n",
      "Generation 250: 'Tfhq js a kolhat qupjng tias siovka aa qpra ehablamgipd fps uie~genevma aihotkugl vq~matah neqfectlv-'\n",
      "Generation 300: 'Tfhq ls a kongbt rupjng tias siovka aa qpra egablemgiph fps uie~genevjh amhotkugl vq latah ncqfectlv-'\n",
      "Generation 350: 'Tfhq ls a kongbt rupjng tias siovka aa lprc egallemgiph dos uie~genevjh amiotgygl vq latah ncqfectlv-'\n",
      "Generation 400: 'Tfhq ls a mongbt tupjng tias siovka aa lpre agallemgiph dqs tie~gejevja alhotkugl vo latah pcqffctlv-'\n",
      "Generation 450: 'Tfhq js a mongbt tupjng tias siovka aa lpre agallemgiph fqs tie~genevjc alnotkugl vo latah pcqffctlv-'\n",
      "Generation 500: 'Tfhq js a mongbt tupjng tias siovka aa lpre agallemgiph dqq tie~genevjc alhotkugl vo latah pcqffctlv-'\n",
      "\n",
      "String Matching Result:\n",
      "Target string: 'This is a longer string that should be more challenging for the genetic algorithm to match perfectly.'\n",
      "Best solution:  'Tfhq js a mongbt tupjng tias siovka aa lpre agallemgiph dqq tie~genevjc alhotkugl vo latah pcqffctlv-'\n",
      "\n",
      "Matching characters: 54/101 (53.47%)\n",
      "\n",
      "Matches by character:\n",
      "Position 0: Target='T' Solution='T' ✓\n",
      "Position 1: Target='h' Solution='f' ✗\n",
      "Position 2: Target='i' Solution='h' ✗\n",
      "Position 3: Target='s' Solution='q' ✗\n",
      "Position 4: Target=' ' Solution=' ' ✓\n",
      "Position 5: Target='i' Solution='j' ✗\n",
      "Position 6: Target='s' Solution='s' ✓\n",
      "Position 7: Target=' ' Solution=' ' ✓\n",
      "Position 8: Target='a' Solution='a' ✓\n",
      "Position 9: Target=' ' Solution=' ' ✓\n",
      "Position 10: Target='l' Solution='m' ✗\n",
      "Position 11: Target='o' Solution='o' ✓\n",
      "Position 12: Target='n' Solution='n' ✓\n",
      "Position 13: Target='g' Solution='g' ✓\n",
      "Position 14: Target='e' Solution='b' ✗\n",
      "Position 15: Target='r' Solution='t' ✗\n",
      "Position 16: Target=' ' Solution=' ' ✓\n",
      "Position 17: Target='s' Solution='t' ✗\n",
      "Position 18: Target='t' Solution='u' ✗\n",
      "Position 19: Target='r' Solution='p' ✗\n",
      "Position 20: Target='i' Solution='j' ✗\n",
      "Position 21: Target='n' Solution='n' ✓\n",
      "Position 22: Target='g' Solution='g' ✓\n",
      "Position 23: Target=' ' Solution=' ' ✓\n",
      "Position 24: Target='t' Solution='t' ✓\n",
      "Position 25: Target='h' Solution='i' ✗\n",
      "Position 26: Target='a' Solution='a' ✓\n",
      "Position 27: Target='t' Solution='s' ✗\n",
      "Position 28: Target=' ' Solution=' ' ✓\n",
      "Position 29: Target='s' Solution='s' ✓\n",
      "Position 30: Target='h' Solution='i' ✗\n",
      "Position 31: Target='o' Solution='o' ✓\n",
      "Position 32: Target='u' Solution='v' ✗\n",
      "Position 33: Target='l' Solution='k' ✗\n",
      "Position 34: Target='d' Solution='a' ✗\n",
      "Position 35: Target=' ' Solution=' ' ✓\n",
      "Position 36: Target='b' Solution='a' ✗\n",
      "Position 37: Target='e' Solution='a' ✗\n",
      "Position 38: Target=' ' Solution=' ' ✓\n",
      "Position 39: Target='m' Solution='l' ✗\n",
      "Position 40: Target='o' Solution='p' ✗\n",
      "Position 41: Target='r' Solution='r' ✓\n",
      "Position 42: Target='e' Solution='e' ✓\n",
      "Position 43: Target=' ' Solution=' ' ✓\n",
      "Position 44: Target='c' Solution='a' ✗\n",
      "Position 45: Target='h' Solution='g' ✗\n",
      "Position 46: Target='a' Solution='a' ✓\n",
      "Position 47: Target='l' Solution='l' ✓\n",
      "Position 48: Target='l' Solution='l' ✓\n",
      "Position 49: Target='e' Solution='e' ✓\n",
      "Position 50: Target='n' Solution='m' ✗\n",
      "Position 51: Target='g' Solution='g' ✓\n",
      "Position 52: Target='i' Solution='i' ✓\n",
      "Position 53: Target='n' Solution='p' ✗\n",
      "Position 54: Target='g' Solution='h' ✗\n",
      "Position 55: Target=' ' Solution=' ' ✓\n",
      "Position 56: Target='f' Solution='d' ✗\n",
      "Position 57: Target='o' Solution='q' ✗\n",
      "Position 58: Target='r' Solution='q' ✗\n",
      "Position 59: Target=' ' Solution=' ' ✓\n",
      "Position 60: Target='t' Solution='t' ✓\n",
      "Position 61: Target='h' Solution='i' ✗\n",
      "Position 62: Target='e' Solution='e' ✓\n",
      "Position 63: Target=' ' Solution='~' ✗\n",
      "Position 64: Target='g' Solution='g' ✓\n",
      "Position 65: Target='e' Solution='e' ✓\n",
      "Position 66: Target='n' Solution='n' ✓\n",
      "Position 67: Target='e' Solution='e' ✓\n",
      "Position 68: Target='t' Solution='v' ✗\n",
      "Position 69: Target='i' Solution='j' ✗\n",
      "Position 70: Target='c' Solution='c' ✓\n",
      "Position 71: Target=' ' Solution=' ' ✓\n",
      "Position 72: Target='a' Solution='a' ✓\n",
      "Position 73: Target='l' Solution='l' ✓\n",
      "Position 74: Target='g' Solution='h' ✗\n",
      "Position 75: Target='o' Solution='o' ✓\n",
      "Position 76: Target='r' Solution='t' ✗\n",
      "Position 77: Target='i' Solution='k' ✗\n",
      "Position 78: Target='t' Solution='u' ✗\n",
      "Position 79: Target='h' Solution='g' ✗\n",
      "Position 80: Target='m' Solution='l' ✗\n",
      "Position 81: Target=' ' Solution=' ' ✓\n",
      "Position 82: Target='t' Solution='v' ✗\n",
      "Position 83: Target='o' Solution='o' ✓\n",
      "Position 84: Target=' ' Solution=' ' ✓\n",
      "Position 85: Target='m' Solution='l' ✗\n",
      "Position 86: Target='a' Solution='a' ✓\n",
      "Position 87: Target='t' Solution='t' ✓\n",
      "Position 88: Target='c' Solution='a' ✗\n",
      "Position 89: Target='h' Solution='h' ✓\n",
      "Position 90: Target=' ' Solution=' ' ✓\n",
      "Position 91: Target='p' Solution='p' ✓\n",
      "Position 92: Target='e' Solution='c' ✗\n",
      "Position 93: Target='r' Solution='q' ✗\n",
      "Position 94: Target='f' Solution='f' ✓\n",
      "Position 95: Target='e' Solution='f' ✗\n",
      "Position 96: Target='c' Solution='c' ✓\n",
      "Position 97: Target='t' Solution='t' ✓\n",
      "Position 98: Target='l' Solution='l' ✓\n",
      "Position 99: Target='y' Solution='v' ✗\n",
      "Position 100: Target='.' Solution='-' ✗\n"
     ]
    }
   ],
   "source": [
    "# Try a more challenging example\n",
    "long_string = \"This is a longer string that should be more challenging for the genetic algorithm to match perfectly.\"\n",
    "problem_data_long = create_string_matching_data(long_string)\n",
    "\n",
    "# Create and run the genetic algorithm for the longer string\n",
    "ga_long = GeneticAlgorithm(\n",
    "    pop_size=200,  # Larger population for more complex problem\n",
    "    chromosome_length=len(long_string),\n",
    "    fitness_function=string_matching_fitness,\n",
    "    problem_data=problem_data_long,\n",
    "    mutation_rate=0.05,\n",
    "    crossover_rate=0.9,\n",
    "    elitism=10,\n",
    "    maximize=True,\n",
    "    binary=False,\n",
    ")\n",
    "\n",
    "print(f\"\\nLonger string challenge:\")\n",
    "print(f\"Target: '{long_string}'\")\n",
    "print(\"\\nRunning genetic algorithm...\")\n",
    "\n",
    "# Track progress at larger intervals\n",
    "for gen in range(0, 500, 50):\n",
    "    for _ in range(50):  # Run 50 generations at a time\n",
    "        best_chromosome, best_fitness = ga_long.evolve()\n",
    "    \n",
    "    current_solution = decode_chromosome(best_chromosome, problem_data_long)\n",
    "    print(f\"Generation {gen + 50}: '{current_solution}'\")\n",
    "\n",
    "# Display final result\n",
    "display_solution(ga_long.best_chromosome, problem_data_long)"
   ]
  }
 ],
 "metadata": {
  "kernelspec": {
   "display_name": ".venv",
   "language": "python",
   "name": "python3"
  },
  "language_info": {
   "codemirror_mode": {
    "name": "ipython",
    "version": 3
   },
   "file_extension": ".py",
   "mimetype": "text/x-python",
   "name": "python",
   "nbconvert_exporter": "python",
   "pygments_lexer": "ipython3",
   "version": "3.12.9"
  }
 },
 "nbformat": 4,
 "nbformat_minor": 4
}
